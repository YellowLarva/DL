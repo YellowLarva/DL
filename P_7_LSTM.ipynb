{
 "cells": [
  {
   "cell_type": "code",
   "execution_count": 1,
   "metadata": {
    "id": "axzJlXiyW_dQ"
   },
   "outputs": [],
   "source": [
    "from numpy import array\n",
    "from tensorflow.keras.preprocessing.text import one_hot\n",
    "from tensorflow.keras.preprocessing.sequence import pad_sequences\n",
    "from tensorflow.keras.models import Sequential\n",
    "from tensorflow.keras.layers import Flatten,Embedding,Dense,LSTM"
   ]
  },
  {
   "cell_type": "code",
   "execution_count": 2,
   "metadata": {
    "id": "BB1QhGvcXLg_"
   },
   "outputs": [],
   "source": [
    "# Define 10 restaurant reviews\n",
    "reviews =[\n",
    "          'Never coming back!',\n",
    "          'horrible service',\n",
    "          'rude waitress',\n",
    "          'cold food',\n",
    "          'horrible food!',\n",
    "          'awesome',\n",
    "          'awesome services!',\n",
    "          'rocks',\n",
    "          'poor work',\n",
    "          'couldn\\'t have done better'\n",
    "]\n",
    "#Define labels\n",
    "labels = array([1,1,1,1,1,0,0,0,0,0])"
   ]
  },
  {
   "cell_type": "code",
   "execution_count": 3,
   "metadata": {
    "colab": {
     "base_uri": "https://localhost:8080/"
    },
    "id": "ZR7pcqKMXSmS",
    "outputId": "654d76ec-9566-4a00-a250-dd67eed418d2"
   },
   "outputs": [
    {
     "name": "stdout",
     "output_type": "stream",
     "text": [
      "encoded reviews: [[11, 34, 49], [31, 3], [31, 42], [16, 48], [31, 48], [13], [13, 20], [8], [41, 14], [4, 36, 15, 22]]\n"
     ]
    }
   ],
   "source": [
    "Vocab_size = 50\n",
    "encoded_reviews = [one_hot(d,Vocab_size) for d in reviews]\n",
    "print(f'encoded reviews: {encoded_reviews}')"
   ]
  },
  {
   "cell_type": "code",
   "execution_count": 4,
   "metadata": {
    "colab": {
     "base_uri": "https://localhost:8080/"
    },
    "id": "5o3Jn7eiXdX1",
    "outputId": "b422a576-158c-4bed-ab0e-2a63725df1d6"
   },
   "outputs": [
    {
     "name": "stdout",
     "output_type": "stream",
     "text": [
      "[[11 34 49  0]\n",
      " [31  3  0  0]\n",
      " [31 42  0  0]\n",
      " [16 48  0  0]\n",
      " [31 48  0  0]\n",
      " [13  0  0  0]\n",
      " [13 20  0  0]\n",
      " [ 8  0  0  0]\n",
      " [41 14  0  0]\n",
      " [ 4 36 15 22]]\n"
     ]
    }
   ],
   "source": [
    "max_length = 4\n",
    "padded_reviews = pad_sequences(encoded_reviews,maxlen=max_length,padding='post')\n",
    "print(padded_reviews)"
   ]
  },
  {
   "cell_type": "code",
   "execution_count": 5,
   "metadata": {
    "colab": {
     "base_uri": "https://localhost:8080/"
    },
    "id": "NDsZhzcOXjTt",
    "outputId": "76272d14-6c10-4309-d6af-0ab2d51c49e6"
   },
   "outputs": [
    {
     "name": "stdout",
     "output_type": "stream",
     "text": [
      "Model: \"sequential\"\n",
      "_________________________________________________________________\n",
      " Layer (type)                Output Shape              Param #   \n",
      "=================================================================\n",
      " embedding (Embedding)       (None, 4, 8)              400       \n",
      "                                                                 \n",
      " lstm (LSTM)                 (None, 50)                11800     \n",
      "                                                                 \n",
      " dense (Dense)               (None, 1)                 51        \n",
      "                                                                 \n",
      "=================================================================\n",
      "Total params: 12,251\n",
      "Trainable params: 12,251\n",
      "Non-trainable params: 0\n",
      "_________________________________________________________________\n",
      "None\n"
     ]
    }
   ],
   "source": [
    "model = Sequential()\n",
    "embedding_layer = Embedding(input_dim=Vocab_size,output_dim=8,input_length=max_length)\n",
    "model.add(embedding_layer)\n",
    "model.add(LSTM(50, dropout=0.2, recurrent_dropout=0.2))\n",
    "#model.add(Flatten())\n",
    "model.add(Dense(1,activation='sigmoid'))\n",
    "model.compile(optimizer='adam',loss='binary_crossentropy',metrics=['acc'])\n",
    "print(model.summary())"
   ]
  },
  {
   "cell_type": "code",
   "execution_count": 6,
   "metadata": {
    "colab": {
     "base_uri": "https://localhost:8080/"
    },
    "id": "RjH30gftXsTT",
    "outputId": "6dd7d5cc-233d-4558-ebd6-c599b014ef18"
   },
   "outputs": [
    {
     "name": "stdout",
     "output_type": "stream",
     "text": [
      "Epoch 1/100\n",
      "1/1 - 4s - loss: 0.6927 - acc: 0.6000 - 4s/epoch - 4s/step\n",
      "Epoch 2/100\n",
      "1/1 - 0s - loss: 0.6930 - acc: 0.5000 - 13ms/epoch - 13ms/step\n",
      "Epoch 3/100\n",
      "1/1 - 0s - loss: 0.6927 - acc: 0.4000 - 12ms/epoch - 12ms/step\n",
      "Epoch 4/100\n",
      "1/1 - 0s - loss: 0.6921 - acc: 0.7000 - 12ms/epoch - 12ms/step\n",
      "Epoch 5/100\n",
      "1/1 - 0s - loss: 0.6916 - acc: 0.7000 - 12ms/epoch - 12ms/step\n",
      "Epoch 6/100\n",
      "1/1 - 0s - loss: 0.6918 - acc: 0.7000 - 21ms/epoch - 21ms/step\n",
      "Epoch 7/100\n",
      "1/1 - 0s - loss: 0.6917 - acc: 0.8000 - 11ms/epoch - 11ms/step\n",
      "Epoch 8/100\n",
      "1/1 - 0s - loss: 0.6920 - acc: 0.7000 - 12ms/epoch - 12ms/step\n",
      "Epoch 9/100\n",
      "1/1 - 0s - loss: 0.6907 - acc: 0.8000 - 13ms/epoch - 13ms/step\n",
      "Epoch 10/100\n",
      "1/1 - 0s - loss: 0.6917 - acc: 0.7000 - 11ms/epoch - 11ms/step\n",
      "Epoch 11/100\n",
      "1/1 - 0s - loss: 0.6896 - acc: 0.8000 - 13ms/epoch - 13ms/step\n",
      "Epoch 12/100\n",
      "1/1 - 0s - loss: 0.6904 - acc: 0.8000 - 12ms/epoch - 12ms/step\n",
      "Epoch 13/100\n",
      "1/1 - 0s - loss: 0.6894 - acc: 0.8000 - 13ms/epoch - 13ms/step\n",
      "Epoch 14/100\n",
      "1/1 - 0s - loss: 0.6886 - acc: 0.9000 - 11ms/epoch - 11ms/step\n",
      "Epoch 15/100\n",
      "1/1 - 0s - loss: 0.6869 - acc: 0.9000 - 17ms/epoch - 17ms/step\n",
      "Epoch 16/100\n",
      "1/1 - 0s - loss: 0.6876 - acc: 0.9000 - 12ms/epoch - 12ms/step\n",
      "Epoch 17/100\n",
      "1/1 - 0s - loss: 0.6853 - acc: 1.0000 - 12ms/epoch - 12ms/step\n",
      "Epoch 18/100\n",
      "1/1 - 0s - loss: 0.6863 - acc: 0.9000 - 14ms/epoch - 14ms/step\n",
      "Epoch 19/100\n",
      "1/1 - 0s - loss: 0.6838 - acc: 1.0000 - 12ms/epoch - 12ms/step\n",
      "Epoch 20/100\n",
      "1/1 - 0s - loss: 0.6845 - acc: 1.0000 - 11ms/epoch - 11ms/step\n",
      "Epoch 21/100\n",
      "1/1 - 0s - loss: 0.6827 - acc: 0.9000 - 12ms/epoch - 12ms/step\n",
      "Epoch 22/100\n",
      "1/1 - 0s - loss: 0.6840 - acc: 1.0000 - 12ms/epoch - 12ms/step\n",
      "Epoch 23/100\n",
      "1/1 - 0s - loss: 0.6804 - acc: 1.0000 - 12ms/epoch - 12ms/step\n",
      "Epoch 24/100\n",
      "1/1 - 0s - loss: 0.6790 - acc: 1.0000 - 11ms/epoch - 11ms/step\n",
      "Epoch 25/100\n",
      "1/1 - 0s - loss: 0.6768 - acc: 1.0000 - 12ms/epoch - 12ms/step\n",
      "Epoch 26/100\n",
      "1/1 - 0s - loss: 0.6749 - acc: 1.0000 - 11ms/epoch - 11ms/step\n",
      "Epoch 27/100\n",
      "1/1 - 0s - loss: 0.6732 - acc: 1.0000 - 11ms/epoch - 11ms/step\n",
      "Epoch 28/100\n",
      "1/1 - 0s - loss: 0.6713 - acc: 1.0000 - 12ms/epoch - 12ms/step\n",
      "Epoch 29/100\n",
      "1/1 - 0s - loss: 0.6666 - acc: 1.0000 - 11ms/epoch - 11ms/step\n",
      "Epoch 30/100\n",
      "1/1 - 0s - loss: 0.6678 - acc: 1.0000 - 11ms/epoch - 11ms/step\n",
      "Epoch 31/100\n",
      "1/1 - 0s - loss: 0.6679 - acc: 1.0000 - 11ms/epoch - 11ms/step\n",
      "Epoch 32/100\n",
      "1/1 - 0s - loss: 0.6602 - acc: 1.0000 - 16ms/epoch - 16ms/step\n",
      "Epoch 33/100\n",
      "1/1 - 0s - loss: 0.6560 - acc: 1.0000 - 12ms/epoch - 12ms/step\n",
      "Epoch 34/100\n",
      "1/1 - 0s - loss: 0.6542 - acc: 1.0000 - 12ms/epoch - 12ms/step\n",
      "Epoch 35/100\n",
      "1/1 - 0s - loss: 0.6514 - acc: 1.0000 - 13ms/epoch - 13ms/step\n",
      "Epoch 36/100\n",
      "1/1 - 0s - loss: 0.6457 - acc: 1.0000 - 11ms/epoch - 11ms/step\n",
      "Epoch 37/100\n",
      "1/1 - 0s - loss: 0.6379 - acc: 1.0000 - 12ms/epoch - 12ms/step\n",
      "Epoch 38/100\n",
      "1/1 - 0s - loss: 0.6371 - acc: 1.0000 - 11ms/epoch - 11ms/step\n",
      "Epoch 39/100\n",
      "1/1 - 0s - loss: 0.6338 - acc: 1.0000 - 11ms/epoch - 11ms/step\n",
      "Epoch 40/100\n",
      "1/1 - 0s - loss: 0.6185 - acc: 1.0000 - 13ms/epoch - 13ms/step\n",
      "Epoch 41/100\n",
      "1/1 - 0s - loss: 0.6199 - acc: 1.0000 - 12ms/epoch - 12ms/step\n",
      "Epoch 42/100\n",
      "1/1 - 0s - loss: 0.6029 - acc: 1.0000 - 13ms/epoch - 13ms/step\n",
      "Epoch 43/100\n",
      "1/1 - 0s - loss: 0.5976 - acc: 1.0000 - 12ms/epoch - 12ms/step\n",
      "Epoch 44/100\n",
      "1/1 - 0s - loss: 0.5979 - acc: 1.0000 - 16ms/epoch - 16ms/step\n",
      "Epoch 45/100\n",
      "1/1 - 0s - loss: 0.5803 - acc: 1.0000 - 22ms/epoch - 22ms/step\n",
      "Epoch 46/100\n",
      "1/1 - 0s - loss: 0.5763 - acc: 1.0000 - 12ms/epoch - 12ms/step\n",
      "Epoch 47/100\n",
      "1/1 - 0s - loss: 0.5568 - acc: 1.0000 - 11ms/epoch - 11ms/step\n",
      "Epoch 48/100\n",
      "1/1 - 0s - loss: 0.5487 - acc: 1.0000 - 11ms/epoch - 11ms/step\n",
      "Epoch 49/100\n",
      "1/1 - 0s - loss: 0.5243 - acc: 1.0000 - 14ms/epoch - 14ms/step\n",
      "Epoch 50/100\n",
      "1/1 - 0s - loss: 0.5148 - acc: 1.0000 - 11ms/epoch - 11ms/step\n",
      "Epoch 51/100\n",
      "1/1 - 0s - loss: 0.4986 - acc: 1.0000 - 11ms/epoch - 11ms/step\n",
      "Epoch 52/100\n",
      "1/1 - 0s - loss: 0.4903 - acc: 1.0000 - 15ms/epoch - 15ms/step\n",
      "Epoch 53/100\n",
      "1/1 - 0s - loss: 0.4662 - acc: 1.0000 - 12ms/epoch - 12ms/step\n",
      "Epoch 54/100\n",
      "1/1 - 0s - loss: 0.4577 - acc: 1.0000 - 12ms/epoch - 12ms/step\n",
      "Epoch 55/100\n",
      "1/1 - 0s - loss: 0.4271 - acc: 1.0000 - 13ms/epoch - 13ms/step\n",
      "Epoch 56/100\n",
      "1/1 - 0s - loss: 0.3924 - acc: 1.0000 - 13ms/epoch - 13ms/step\n",
      "Epoch 57/100\n",
      "1/1 - 0s - loss: 0.3940 - acc: 1.0000 - 12ms/epoch - 12ms/step\n",
      "Epoch 58/100\n",
      "1/1 - 0s - loss: 0.3702 - acc: 1.0000 - 12ms/epoch - 12ms/step\n",
      "Epoch 59/100\n",
      "1/1 - 0s - loss: 0.3447 - acc: 1.0000 - 14ms/epoch - 14ms/step\n",
      "Epoch 60/100\n",
      "1/1 - 0s - loss: 0.3193 - acc: 1.0000 - 19ms/epoch - 19ms/step\n",
      "Epoch 61/100\n",
      "1/1 - 0s - loss: 0.3111 - acc: 1.0000 - 13ms/epoch - 13ms/step\n",
      "Epoch 62/100\n",
      "1/1 - 0s - loss: 0.2669 - acc: 1.0000 - 13ms/epoch - 13ms/step\n",
      "Epoch 63/100\n",
      "1/1 - 0s - loss: 0.2538 - acc: 1.0000 - 15ms/epoch - 15ms/step\n",
      "Epoch 64/100\n",
      "1/1 - 0s - loss: 0.2518 - acc: 1.0000 - 13ms/epoch - 13ms/step\n",
      "Epoch 65/100\n",
      "1/1 - 0s - loss: 0.2219 - acc: 1.0000 - 12ms/epoch - 12ms/step\n",
      "Epoch 66/100\n",
      "1/1 - 0s - loss: 0.1857 - acc: 1.0000 - 13ms/epoch - 13ms/step\n",
      "Epoch 67/100\n",
      "1/1 - 0s - loss: 0.1567 - acc: 1.0000 - 12ms/epoch - 12ms/step\n",
      "Epoch 68/100\n",
      "1/1 - 0s - loss: 0.1428 - acc: 1.0000 - 13ms/epoch - 13ms/step\n",
      "Epoch 69/100\n",
      "1/1 - 0s - loss: 0.1297 - acc: 1.0000 - 12ms/epoch - 12ms/step\n",
      "Epoch 70/100\n",
      "1/1 - 0s - loss: 0.1129 - acc: 1.0000 - 12ms/epoch - 12ms/step\n",
      "Epoch 71/100\n",
      "1/1 - 0s - loss: 0.1172 - acc: 1.0000 - 12ms/epoch - 12ms/step\n",
      "Epoch 72/100\n",
      "1/1 - 0s - loss: 0.0982 - acc: 1.0000 - 12ms/epoch - 12ms/step\n",
      "Epoch 73/100\n",
      "1/1 - 0s - loss: 0.0821 - acc: 1.0000 - 11ms/epoch - 11ms/step\n",
      "Epoch 74/100\n",
      "1/1 - 0s - loss: 0.0742 - acc: 1.0000 - 11ms/epoch - 11ms/step\n",
      "Epoch 75/100\n",
      "1/1 - 0s - loss: 0.0808 - acc: 1.0000 - 14ms/epoch - 14ms/step\n",
      "Epoch 76/100\n",
      "1/1 - 0s - loss: 0.0543 - acc: 1.0000 - 12ms/epoch - 12ms/step\n",
      "Epoch 77/100\n",
      "1/1 - 0s - loss: 0.0455 - acc: 1.0000 - 13ms/epoch - 13ms/step\n",
      "Epoch 78/100\n",
      "1/1 - 0s - loss: 0.0498 - acc: 1.0000 - 11ms/epoch - 11ms/step\n",
      "Epoch 79/100\n",
      "1/1 - 0s - loss: 0.0386 - acc: 1.0000 - 11ms/epoch - 11ms/step\n",
      "Epoch 80/100\n",
      "1/1 - 0s - loss: 0.0450 - acc: 1.0000 - 12ms/epoch - 12ms/step\n",
      "Epoch 81/100\n",
      "1/1 - 0s - loss: 0.0339 - acc: 1.0000 - 12ms/epoch - 12ms/step\n",
      "Epoch 82/100\n",
      "1/1 - 0s - loss: 0.0230 - acc: 1.0000 - 12ms/epoch - 12ms/step\n",
      "Epoch 83/100\n",
      "1/1 - 0s - loss: 0.0324 - acc: 1.0000 - 12ms/epoch - 12ms/step\n",
      "Epoch 84/100\n",
      "1/1 - 0s - loss: 0.0228 - acc: 1.0000 - 12ms/epoch - 12ms/step\n",
      "Epoch 85/100\n",
      "1/1 - 0s - loss: 0.0221 - acc: 1.0000 - 12ms/epoch - 12ms/step\n",
      "Epoch 86/100\n",
      "1/1 - 0s - loss: 0.0188 - acc: 1.0000 - 12ms/epoch - 12ms/step\n",
      "Epoch 87/100\n",
      "1/1 - 0s - loss: 0.0144 - acc: 1.0000 - 12ms/epoch - 12ms/step\n",
      "Epoch 88/100\n",
      "1/1 - 0s - loss: 0.0197 - acc: 1.0000 - 12ms/epoch - 12ms/step\n",
      "Epoch 89/100\n",
      "1/1 - 0s - loss: 0.0157 - acc: 1.0000 - 12ms/epoch - 12ms/step\n",
      "Epoch 90/100\n",
      "1/1 - 0s - loss: 0.0156 - acc: 1.0000 - 12ms/epoch - 12ms/step\n",
      "Epoch 91/100\n",
      "1/1 - 0s - loss: 0.0152 - acc: 1.0000 - 13ms/epoch - 13ms/step\n",
      "Epoch 92/100\n",
      "1/1 - 0s - loss: 0.0169 - acc: 1.0000 - 12ms/epoch - 12ms/step\n",
      "Epoch 93/100\n",
      "1/1 - 0s - loss: 0.0135 - acc: 1.0000 - 12ms/epoch - 12ms/step\n",
      "Epoch 94/100\n",
      "1/1 - 0s - loss: 0.0100 - acc: 1.0000 - 12ms/epoch - 12ms/step\n",
      "Epoch 95/100\n",
      "1/1 - 0s - loss: 0.0083 - acc: 1.0000 - 12ms/epoch - 12ms/step\n",
      "Epoch 96/100\n",
      "1/1 - 0s - loss: 0.0118 - acc: 1.0000 - 12ms/epoch - 12ms/step\n",
      "Epoch 97/100\n",
      "1/1 - 0s - loss: 0.0096 - acc: 1.0000 - 13ms/epoch - 13ms/step\n",
      "Epoch 98/100\n",
      "1/1 - 0s - loss: 0.0072 - acc: 1.0000 - 13ms/epoch - 13ms/step\n",
      "Epoch 99/100\n",
      "1/1 - 0s - loss: 0.0068 - acc: 1.0000 - 11ms/epoch - 11ms/step\n",
      "Epoch 100/100\n",
      "1/1 - 0s - loss: 0.0061 - acc: 1.0000 - 19ms/epoch - 19ms/step\n"
     ]
    },
    {
     "data": {
      "text/plain": [
       "<keras.callbacks.History at 0x7f259b7e5ff0>"
      ]
     },
     "execution_count": 6,
     "metadata": {},
     "output_type": "execute_result"
    }
   ],
   "source": [
    "model.fit(padded_reviews,labels,epochs=100,verbose=2)"
   ]
  },
  {
   "cell_type": "code",
   "execution_count": 7,
   "metadata": {
    "colab": {
     "base_uri": "https://localhost:8080/"
    },
    "id": "xOZ33Xf7XwNp",
    "outputId": "e7a5f663-e7bf-486a-8081-d29ee756d003"
   },
   "outputs": [
    {
     "name": "stdout",
     "output_type": "stream",
     "text": [
      "(50, 8)\n"
     ]
    }
   ],
   "source": [
    "print(embedding_layer.get_weights()[0].shape)"
   ]
  },
  {
   "cell_type": "code",
   "execution_count": 8,
   "metadata": {
    "colab": {
     "base_uri": "https://localhost:8080/"
    },
    "id": "jWJKwAYYDAXx",
    "outputId": "e00fdddc-3efa-4226-c2e1-08eed51f8956"
   },
   "outputs": [
    {
     "name": "stdout",
     "output_type": "stream",
     "text": [
      "1/1 [==============================] - 0s 293ms/step\n",
      "[0.9952038]\n"
     ]
    }
   ],
   "source": [
    "print(model.predict(padded_reviews)[3])"
   ]
  },
  {
   "cell_type": "code",
   "execution_count": null,
   "metadata": {
    "colab": {
     "base_uri": "https://localhost:8080/"
    },
    "id": "So4PUuZlX47c",
    "outputId": "ac77960c-0143-4ef8-fd8b-f294b7ce2cab"
   },
   "outputs": [
    {
     "name": "stdout",
     "output_type": "stream",
     "text": [
      "1/1 [==============================] - 0s 25ms/step\n",
      "[0.98601276]\n"
     ]
    }
   ],
   "source": [
    "print(model.predict(padded_reviews)[3])"
   ]
  }
 ],
 "metadata": {
  "colab": {
   "provenance": []
  },
  "kernelspec": {
   "display_name": "Python 3 (ipykernel)",
   "language": "python",
   "name": "python3"
  },
  "language_info": {
   "codemirror_mode": {
    "name": "ipython",
    "version": 3
   },
   "file_extension": ".py",
   "mimetype": "text/x-python",
   "name": "python",
   "nbconvert_exporter": "python",
   "pygments_lexer": "ipython3",
   "version": "3.9.12"
  }
 },
 "nbformat": 4,
 "nbformat_minor": 1
}
