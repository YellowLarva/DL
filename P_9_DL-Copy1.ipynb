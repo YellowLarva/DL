{
 "cells": [
  {
   "cell_type": "code",
   "execution_count": 1,
   "metadata": {
    "id": "WZkeoHMWrg4S"
   },
   "outputs": [],
   "source": [
    "import numpy as np\n",
    "# Stochastic Encoder\n",
    "def encode(data):\n",
    "    # Generate a probability distribution over possible values\n",
    "    probabilities = np.random.rand(len(data))\n",
    "    probabilities /= probabilities.sum()\n",
    "    \n",
    "    # Sample a value from the distribution\n",
    "    index = np.random.choice(len(data), p=probabilities)\n",
    "    value = data[index]\n",
    "    \n",
    "    return value, probabilities"
   ]
  },
  {
   "cell_type": "code",
   "execution_count": 2,
   "metadata": {
    "colab": {
     "base_uri": "https://localhost:8080/"
    },
    "id": "Nmm9mOiwrngW",
    "outputId": "73fa4da7-e25e-471c-c153-85b2b8a09f74"
   },
   "outputs": [
    {
     "data": {
      "text/plain": [
       "(2, array([0.37871842, 0.29677402, 0.32450756]))"
      ]
     },
     "execution_count": 2,
     "metadata": {},
     "output_type": "execute_result"
    }
   ],
   "source": [
    "encode([5,4,2])"
   ]
  },
  {
   "cell_type": "code",
   "execution_count": 3,
   "metadata": {
    "id": "dfuMc-xKoqAa"
   },
   "outputs": [],
   "source": [
    "# Stochastic Decoder\n",
    "def decode(value, probabilities):\n",
    "    # Reconstruct the probability distribution\n",
    "    index = np.argmin(np.abs(value - np.arange(len(probabilities))))\n",
    "    probabilities[index] /= probabilities.sum()\n",
    "    \n",
    "    # Reconstruct the original data\n",
    "    data = np.random.choice(len(probabilities), p=probabilities, size=len(probabilities))\n",
    "    \n",
    "    return data"
   ]
  },
  {
   "cell_type": "code",
   "execution_count": 4,
   "metadata": {
    "colab": {
     "base_uri": "https://localhost:8080/"
    },
    "id": "zVmteuTSrm9p",
    "outputId": "45022d55-fc03-4a3a-fbeb-ebccf6ba84c7"
   },
   "outputs": [
    {
     "data": {
      "text/plain": [
       "array([1, 0, 0])"
      ]
     },
     "execution_count": 4,
     "metadata": {},
     "output_type": "execute_result"
    }
   ],
   "source": [
    "decode(5, np.array([0.72587109, 0.14428887, 0.12984003]))"
   ]
  },
  {
   "cell_type": "code",
   "execution_count": null,
   "metadata": {
    "id": "wNsNcax4r1oA"
   },
   "outputs": [],
   "source": []
  }
 ],
 "metadata": {
  "colab": {
   "provenance": []
  },
  "kernelspec": {
   "display_name": "Python 3 (ipykernel)",
   "language": "python",
   "name": "python3"
  },
  "language_info": {
   "codemirror_mode": {
    "name": "ipython",
    "version": 3
   },
   "file_extension": ".py",
   "mimetype": "text/x-python",
   "name": "python",
   "nbconvert_exporter": "python",
   "pygments_lexer": "ipython3",
   "version": "3.9.12"
  }
 },
 "nbformat": 4,
 "nbformat_minor": 1
}
