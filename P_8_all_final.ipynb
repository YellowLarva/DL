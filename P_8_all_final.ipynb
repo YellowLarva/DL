{
 "cells": [
  {
   "cell_type": "markdown",
   "metadata": {
    "id": "hYmlI3UQk0aW"
   },
   "source": [
    "Autoencoder"
   ]
  },
  {
   "cell_type": "code",
   "execution_count": 1,
   "metadata": {
    "colab": {
     "base_uri": "https://localhost:8080/"
    },
    "id": "Ya9S2C5HkDK4",
    "outputId": "6493184d-0eb7-4425-94db-74608a2c10c2"
   },
   "outputs": [
    {
     "name": "stdout",
     "output_type": "stream",
     "text": [
      "Downloading data from https://storage.googleapis.com/tensorflow/tf-keras-datasets/mnist.npz\n",
      "11490434/11490434 [==============================] - 0s 0us/step\n"
     ]
    }
   ],
   "source": [
    "import numpy as np\n",
    "from tensorflow import keras as kr\n",
    "(X_train, y_train), (X_test, y_test) = kr.datasets.mnist.load_data()"
   ]
  },
  {
   "cell_type": "code",
   "execution_count": 4,
   "metadata": {
    "id": "Chbif5fAlIi9"
   },
   "outputs": [],
   "source": [
    "X_train = X_train/255\n",
    "X_test = X_test/255"
   ]
  },
  {
   "cell_type": "code",
   "execution_count": 5,
   "metadata": {
    "id": "x9ljfP_jlO6v"
   },
   "outputs": [],
   "source": [
    "X_train = X_train.reshape(-1, 784)\n",
    "X_test = X_test.reshape(-1, 784)"
   ]
  },
  {
   "cell_type": "code",
   "execution_count": 6,
   "metadata": {
    "id": "AIII9MTvjZbI"
   },
   "outputs": [],
   "source": [
    "from keras.models import Sequential\n",
    "from keras.layers import Dense\n",
    "from keras import regularizers\n",
    "\n",
    "# Define the input size and encoding size\n",
    "input_size = 784\n",
    "encoding_size = 32\n",
    "\n",
    "# Create a sequential model\n",
    "model = Sequential()\n",
    "\n",
    "# Add the encoding layer with a sparsity constraint\n",
    "model.add(Dense(encoding_size, activation='sigmoid', input_shape=(input_size,)))\n",
    "\n",
    "# Add the decoding layer\n",
    "model.add(Dense(input_size, activation='sigmoid'))\n",
    "\n",
    "# Compile the model\n",
    "model.compile(optimizer='adam', loss='mse')"
   ]
  },
  {
   "cell_type": "code",
   "execution_count": 7,
   "metadata": {
    "colab": {
     "base_uri": "https://localhost:8080/"
    },
    "id": "aIldM92nkzrX",
    "outputId": "abddd1db-5c0a-4e5b-fcde-fca1cf7b14ed"
   },
   "outputs": [
    {
     "name": "stdout",
     "output_type": "stream",
     "text": [
      "Epoch 1/5\n",
      "1875/1875 [==============================] - 5s 3ms/step - loss: 0.0702 - val_loss: 0.0675\n",
      "Epoch 2/5\n",
      "1875/1875 [==============================] - 5s 3ms/step - loss: 0.0642 - val_loss: 0.0605\n",
      "Epoch 3/5\n",
      "1875/1875 [==============================] - 6s 3ms/step - loss: 0.0560 - val_loss: 0.0517\n",
      "Epoch 4/5\n",
      "1875/1875 [==============================] - 7s 4ms/step - loss: 0.0482 - val_loss: 0.0454\n",
      "Epoch 5/5\n",
      "1875/1875 [==============================] - 7s 4ms/step - loss: 0.0443 - val_loss: 0.0430\n"
     ]
    }
   ],
   "source": [
    "history = model.fit(X_train, X_train, validation_data=(X_test, X_test), epochs=5)"
   ]
  },
  {
   "cell_type": "markdown",
   "metadata": {
    "id": "DoHtlRLclZXg"
   },
   "source": [
    "Denoising Encoder"
   ]
  },
  {
   "cell_type": "code",
   "execution_count": 8,
   "metadata": {
    "id": "N6v6wFeek7fq"
   },
   "outputs": [],
   "source": [
    "noise_factor = 0.2\n",
    "X_train_noisy = X_train + noise_factor * np.random.normal(loc=0.0, scale=1.0, size=X_train.shape)\n",
    "X_test_noisy = X_test + noise_factor * np.random.normal(loc=0.0, scale=1.0, size=X_test.shape)\n",
    "X_train_noisy = np.clip(X_train_noisy, 0., 1.)\n",
    "X_test_noisy = np.clip(X_test_noisy, 0., 1.)"
   ]
  },
  {
   "cell_type": "code",
   "execution_count": 9,
   "metadata": {
    "id": "8qa8OeKwmCVJ"
   },
   "outputs": [],
   "source": [
    "X_train_noisy = X_train_noisy.reshape(-1, 784)\n",
    "X_test_noisy = X_test_noisy.reshape(-1, 784)"
   ]
  },
  {
   "cell_type": "code",
   "execution_count": 10,
   "metadata": {
    "id": "l-RG2H9wmFSr"
   },
   "outputs": [],
   "source": [
    "model = kr.models.Sequential()\n",
    "\n",
    "model.add(kr.layers.Dense(784, input_dim=784, activation=kr.activations.relu))\n",
    "model.add(kr.layers.Dense(256, activation=kr.activations.relu))\n",
    "model.add(kr.layers.Dense(128, activation=kr.activations.relu))\n",
    "model.add(kr.layers.Dense(256, activation=kr.activations.relu))\n",
    "model.add(kr.layers.Dense(784, activation=kr.activations.softmax))\n",
    "\n",
    "\n",
    "model.compile(optimizer=kr.optimizers.Adam(), loss=kr.losses.mean_squared_error)"
   ]
  },
  {
   "cell_type": "code",
   "execution_count": 11,
   "metadata": {
    "colab": {
     "base_uri": "https://localhost:8080/"
    },
    "id": "neNB9ghsmJus",
    "outputId": "cca027ab-935c-4d56-8234-6c45d2d43d7a"
   },
   "outputs": [
    {
     "name": "stdout",
     "output_type": "stream",
     "text": [
      "Epoch 1/10\n",
      "1875/1875 [==============================] - 36s 19ms/step - loss: 0.1099 - val_loss: 0.1118\n",
      "Epoch 2/10\n",
      "1875/1875 [==============================] - 36s 19ms/step - loss: 0.1098 - val_loss: 0.1117\n",
      "Epoch 3/10\n",
      "1875/1875 [==============================] - 35s 18ms/step - loss: 0.1097 - val_loss: 0.1117\n",
      "Epoch 4/10\n",
      "1875/1875 [==============================] - 35s 19ms/step - loss: 0.1097 - val_loss: 0.1117\n",
      "Epoch 5/10\n",
      "1875/1875 [==============================] - 35s 19ms/step - loss: 0.1097 - val_loss: 0.1116\n",
      "Epoch 6/10\n",
      "1875/1875 [==============================] - 35s 18ms/step - loss: 0.1097 - val_loss: 0.1116\n",
      "Epoch 7/10\n",
      "1875/1875 [==============================] - 37s 20ms/step - loss: 0.1097 - val_loss: 0.1116\n",
      "Epoch 8/10\n",
      "1875/1875 [==============================] - 34s 18ms/step - loss: 0.1097 - val_loss: 0.1116\n",
      "Epoch 9/10\n",
      "1875/1875 [==============================] - 40s 21ms/step - loss: 0.1097 - val_loss: 0.1116\n",
      "Epoch 10/10\n",
      "1875/1875 [==============================] - 35s 19ms/step - loss: 0.1097 - val_loss: 0.1116\n"
     ]
    }
   ],
   "source": [
    "history = model.fit(X_train_noisy, X_train, validation_data=(X_test_noisy, X_test), epochs=10)"
   ]
  },
  {
   "cell_type": "code",
   "execution_count": 12,
   "metadata": {
    "colab": {
     "base_uri": "https://localhost:8080/"
    },
    "id": "3q38HhfYmNda",
    "outputId": "78ec0354-e94f-4f5d-f43b-09b901446beb"
   },
   "outputs": [
    {
     "name": "stdout",
     "output_type": "stream",
     "text": [
      "313/313 [==============================] - 2s 5ms/step\n"
     ]
    }
   ],
   "source": [
    "pred = model.predict(X_test_noisy)"
   ]
  },
  {
   "cell_type": "markdown",
   "metadata": {
    "id": "skVrMkILnZG7"
   },
   "source": [
    "Sparse Autoencoder"
   ]
  },
  {
   "cell_type": "code",
   "execution_count": 13,
   "metadata": {
    "id": "WGmUjeqCncSB"
   },
   "outputs": [],
   "source": [
    "from keras.models import Sequential\n",
    "from keras.layers import Dense\n",
    "from keras import regularizers\n",
    "\n",
    "# Define the input size and encoding size\n",
    "input_size = 784\n",
    "encoding_size = 32\n",
    "\n",
    "# Create a sequential model\n",
    "model = Sequential()\n",
    "\n",
    "# Add the encoding layer with a sparsity constraint\n",
    "model.add(Dense(encoding_size, activation='sigmoid', input_shape=(input_size,), activity_regularizer=regularizers.l1(1e-4)))\n",
    "\n",
    "# Add the decoding layer\n",
    "model.add(Dense(input_size, activation='sigmoid'))\n",
    "\n",
    "# Compile the model\n",
    "model.compile(optimizer='adam', loss='mse')"
   ]
  },
  {
   "cell_type": "code",
   "execution_count": 14,
   "metadata": {
    "colab": {
     "base_uri": "https://localhost:8080/"
    },
    "id": "rFEH0huCnoxx",
    "outputId": "84668fa4-2c5c-4473-d383-5633ba0c7f35"
   },
   "outputs": [
    {
     "name": "stdout",
     "output_type": "stream",
     "text": [
      "Epoch 1/5\n",
      "1875/1875 [==============================] - 9s 4ms/step - loss: 0.0730 - val_loss: 0.0664\n",
      "Epoch 2/5\n",
      "1875/1875 [==============================] - 5s 3ms/step - loss: 0.0568 - val_loss: 0.0496\n",
      "Epoch 3/5\n",
      "1875/1875 [==============================] - 6s 3ms/step - loss: 0.0452 - val_loss: 0.0413\n",
      "Epoch 4/5\n",
      "1875/1875 [==============================] - 6s 3ms/step - loss: 0.0396 - val_loss: 0.0376\n",
      "Epoch 5/5\n",
      "1875/1875 [==============================] - 6s 3ms/step - loss: 0.0366 - val_loss: 0.0346\n"
     ]
    }
   ],
   "source": [
    "history = model.fit(X_train, X_train, validation_data=(X_test, X_test), epochs=5)"
   ]
  },
  {
   "cell_type": "code",
   "execution_count": 15,
   "metadata": {
    "colab": {
     "base_uri": "https://localhost:8080/"
    },
    "id": "82lxmCoWnq-X",
    "outputId": "889614da-c9c4-492f-e160-8da5063287cc"
   },
   "outputs": [
    {
     "name": "stdout",
     "output_type": "stream",
     "text": [
      "Epoch 1/5\n",
      "1875/1875 [==============================] - 6s 3ms/step - loss: 0.0316 - val_loss: 0.0268\n",
      "Epoch 2/5\n",
      "1875/1875 [==============================] - 7s 4ms/step - loss: 0.0233 - val_loss: 0.0201\n",
      "Epoch 3/5\n",
      "1875/1875 [==============================] - 5s 3ms/step - loss: 0.0189 - val_loss: 0.0174\n",
      "Epoch 4/5\n",
      "1875/1875 [==============================] - 7s 4ms/step - loss: 0.0170 - val_loss: 0.0160\n",
      "Epoch 5/5\n",
      "1875/1875 [==============================] - 5s 3ms/step - loss: 0.0160 - val_loss: 0.0152\n"
     ]
    }
   ],
   "source": [
    "history = model.fit(X_train, X_train, validation_data=(X_test, X_test), epochs=5)"
   ]
  },
  {
   "cell_type": "code",
   "execution_count": null,
   "metadata": {
    "id": "EMnc-eU4nuEN"
   },
   "outputs": [],
   "source": []
  }
 ],
 "metadata": {
  "colab": {
   "provenance": []
  },
  "kernelspec": {
   "display_name": "Python 3 (ipykernel)",
   "language": "python",
   "name": "python3"
  },
  "language_info": {
   "codemirror_mode": {
    "name": "ipython",
    "version": 3
   },
   "file_extension": ".py",
   "mimetype": "text/x-python",
   "name": "python",
   "nbconvert_exporter": "python",
   "pygments_lexer": "ipython3",
   "version": "3.9.12"
  }
 },
 "nbformat": 4,
 "nbformat_minor": 1
}
