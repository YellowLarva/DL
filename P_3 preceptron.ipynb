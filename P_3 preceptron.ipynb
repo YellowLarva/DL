{
 "cells": [
  {
   "cell_type": "code",
   "execution_count": 1,
   "id": "8a8be8b4",
   "metadata": {},
   "outputs": [],
   "source": [
    "import numpy as np\n",
    "\n",
    "# Define the activation function\n",
    "def step_function(x):\n",
    "    return np.where(x >= 0, 1, -1)\n",
    "\n",
    "# Define the perceptron class\n",
    "class Perceptron:\n",
    "    def __init__(self, input_size):\n",
    "        self.weights = np.random.uniform(-2, 2, input_size)  # Initialize weights randomly in range (-2, 2)\n",
    "\n",
    "    def train(self, X, y, learning_rate, epochs):\n",
    "        for _ in range(epochs):\n",
    "            for xi, target in zip(X, y):\n",
    "                output = self.predict(xi)\n",
    "                error = target - output\n",
    "                self.weights += learning_rate * error * xi\n",
    "\n",
    "    def predict(self, X):\n",
    "        activation = np.dot(X, self.weights)\n",
    "        return step_function(activation)"
   ]
  },
  {
   "cell_type": "code",
   "execution_count": 2,
   "id": "35748996",
   "metadata": {},
   "outputs": [],
   "source": [
    "# Define the Boolean functions\n",
    "def NOT(x):\n",
    "    return 1 if x == 0 else -1\n",
    "\n",
    "def OR(x1, x2):\n",
    "    return 1 if x1 or x2 else -1\n",
    "\n",
    "def AND(x1, x2):\n",
    "    return 1 if x1 and x2 else -1\n",
    "\n",
    "def NOR(x1, x2):\n",
    "    return 1 if not (x1 or x2) else -1\n",
    "\n",
    "def NAND(x1, x2):\n",
    "    return 1 if not (x1 and x2) else -1"
   ]
  },
  {
   "cell_type": "code",
   "execution_count": 3,
   "id": "40f00095",
   "metadata": {
    "scrolled": true
   },
   "outputs": [],
   "source": [
    "# Define the training data for each Boolean function\n",
    "X_NOT = np.array([[0]])\n",
    "y_NOT = np.array([NOT(0)])\n",
    "\n",
    "X_OR = np.array([[0, 0], [0, 1], [1, 0], [1, 1]])\n",
    "y_OR = np.array([OR(0, 0), OR(0, 1), OR(1, 0), OR(1, 1)])\n",
    "\n",
    "X_AND = np.array([[0, 0], [0, 1], [1, 0], [1, 1]])\n",
    "y_AND = np.array([AND(0, 0), AND(0, 1), AND(1, 0), AND(1, 1)])\n",
    "\n",
    "X_NOR = np.array([[0, 0], [0, 1], [1, 0], [1, 1]])\n",
    "y_NOR = np.array([NOR(0, 0), NOR(0, 1), NOR(1, 0), NOR(1, 1)])\n",
    "\n",
    "X_NAND = np.array([[0, 0], [0, 1], [1, 0], [1, 1]])\n",
    "y_NAND = np.array([NAND(0, 0), NAND(0, 1), NAND(1, 0), NAND(1, 1)])"
   ]
  },
  {
   "cell_type": "code",
   "execution_count": 4,
   "id": "f031eec2",
   "metadata": {},
   "outputs": [],
   "source": [
    "\n",
    "# Train perceptrons for each Boolean function\n",
    "perceptron_NOT = Perceptron(1)\n",
    "perceptron_NOT.train(X_NOT, y_NOT, 0.1, 100)\n",
    "\n",
    "perceptron_OR = Perceptron(2)\n",
    "perceptron_OR.train(X_OR, y_OR, 0.1, 100)\n",
    "\n",
    "perceptron_AND = Perceptron(2)\n",
    "perceptron_AND.train(X_AND, y_AND, 0.1, 100)\n",
    "\n",
    "perceptron_NOR = Perceptron(2)\n",
    "perceptron_NOR.train(X_NOR, y_NOR, 0.1, 100)\n",
    "\n",
    "perceptron_NAND = Perceptron(2)\n",
    "perceptron_NAND.train(X_NAND, y_NAND, 0.1, 100)\n",
    "\n"
   ]
  },
  {
   "cell_type": "code",
   "execution_count": 5,
   "id": "62817c81",
   "metadata": {},
   "outputs": [
    {
     "name": "stdout",
     "output_type": "stream",
     "text": [
      "Weights for NOT function:  [0.37302155]\n",
      "Weights for OR function:  [0.12526447 0.89896046]\n",
      "Weights for AND function:  [0.18074473 0.11750488]\n",
      "Weights for NOR function:  [-0.00696938 -1.3996362 ]\n",
      "Weights for NAND function:  [-0.07849623 -0.16874202]\n"
     ]
    }
   ],
   "source": [
    "# Print learned weights for each perceptron\n",
    "print(\"Weights for NOT function: \", perceptron_NOT.weights)\n",
    "print(\"Weights for OR function: \", perceptron_OR.weights)\n",
    "print(\"Weights for AND function: \", perceptron_AND.weights)\n",
    "print(\"Weights for NOR function: \", perceptron_NOR.weights)\n",
    "print(\"Weights for NAND function: \", perceptron_NAND.weights)"
   ]
  },
  {
   "cell_type": "markdown",
   "id": "b1493f87",
   "metadata": {},
   "source": [
    "### Prediction"
   ]
  },
  {
   "cell_type": "code",
   "execution_count": 9,
   "id": "3f247a85",
   "metadata": {},
   "outputs": [
    {
     "data": {
      "text/plain": [
       "array([1, 1, 1, 1])"
      ]
     },
     "execution_count": 9,
     "metadata": {},
     "output_type": "execute_result"
    }
   ],
   "source": [
    "perceptron_OR.predict(X_OR)"
   ]
  },
  {
   "cell_type": "code",
   "execution_count": 10,
   "id": "9b36a0b9",
   "metadata": {
    "scrolled": true
   },
   "outputs": [
    {
     "data": {
      "text/plain": [
       "array([1, 1, 1, 1])"
      ]
     },
     "execution_count": 10,
     "metadata": {},
     "output_type": "execute_result"
    }
   ],
   "source": [
    "perceptron_AND.predict(X_AND)"
   ]
  },
  {
   "cell_type": "markdown",
   "id": "0a0469aa",
   "metadata": {},
   "source": [
    "### Verifying the result for AND"
   ]
  },
  {
   "cell_type": "code",
   "execution_count": 11,
   "id": "77da91a7",
   "metadata": {},
   "outputs": [
    {
     "data": {
      "text/plain": [
       "array([0.18074473, 0.11750488])"
      ]
     },
     "execution_count": 11,
     "metadata": {},
     "output_type": "execute_result"
    }
   ],
   "source": [
    "perceptron_AND.weights"
   ]
  },
  {
   "cell_type": "code",
   "execution_count": 12,
   "id": "f8eaf16a",
   "metadata": {},
   "outputs": [
    {
     "data": {
      "text/plain": [
       "-1"
      ]
     },
     "execution_count": 12,
     "metadata": {},
     "output_type": "execute_result"
    }
   ],
   "source": [
    "AND(perceptron_AND.weights[0]*0,perceptron_AND.weights[1]*1)"
   ]
  },
  {
   "cell_type": "code",
   "execution_count": 13,
   "id": "bc42cc21",
   "metadata": {},
   "outputs": [
    {
     "data": {
      "text/plain": [
       "-1"
      ]
     },
     "execution_count": 13,
     "metadata": {},
     "output_type": "execute_result"
    }
   ],
   "source": [
    "AND(perceptron_AND.weights[0]*0,perceptron_AND.weights[1]*0)"
   ]
  },
  {
   "cell_type": "code",
   "execution_count": 14,
   "id": "304619de",
   "metadata": {},
   "outputs": [
    {
     "data": {
      "text/plain": [
       "-1"
      ]
     },
     "execution_count": 14,
     "metadata": {},
     "output_type": "execute_result"
    }
   ],
   "source": [
    "AND(perceptron_AND.weights[0]*1,perceptron_AND.weights[1]*0)"
   ]
  },
  {
   "cell_type": "code",
   "execution_count": 15,
   "id": "9a4cec03",
   "metadata": {},
   "outputs": [
    {
     "data": {
      "text/plain": [
       "1"
      ]
     },
     "execution_count": 15,
     "metadata": {},
     "output_type": "execute_result"
    }
   ],
   "source": [
    "AND(perceptron_AND.weights[0]*1,perceptron_AND.weights[1]*1)"
   ]
  },
  {
   "cell_type": "code",
   "execution_count": null,
   "id": "4d53ed4d",
   "metadata": {},
   "outputs": [],
   "source": []
  }
 ],
 "metadata": {
  "kernelspec": {
   "display_name": "Python 3 (ipykernel)",
   "language": "python",
   "name": "python3"
  },
  "language_info": {
   "codemirror_mode": {
    "name": "ipython",
    "version": 3
   },
   "file_extension": ".py",
   "mimetype": "text/x-python",
   "name": "python",
   "nbconvert_exporter": "python",
   "pygments_lexer": "ipython3",
   "version": "3.9.12"
  }
 },
 "nbformat": 4,
 "nbformat_minor": 5
}
